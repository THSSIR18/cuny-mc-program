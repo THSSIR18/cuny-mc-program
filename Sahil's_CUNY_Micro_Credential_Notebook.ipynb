{
  "nbformat": 4,
  "nbformat_minor": 0,
  "metadata": {
    "colab": {
      "name": "Sahil's CUNY Micro Credential Notebook",
      "provenance": [],
      "collapsed_sections": [],
      "authorship_tag": "ABX9TyOqHoE8+jfUw9dWRhhuQfPY",
      "include_colab_link": true
    },
    "kernelspec": {
      "name": "python3",
      "display_name": "Python 3"
    }
  },
  "cells": [
    {
      "cell_type": "markdown",
      "metadata": {
        "id": "view-in-github",
        "colab_type": "text"
      },
      "source": [
        "<a href=\"https://colab.research.google.com/github/THSSIR18/cuny-mc-program/blob/main/Sahil's_CUNY_Micro_Credential_Notebook.ipynb\" target=\"_parent\"><img src=\"https://colab.research.google.com/assets/colab-badge.svg\" alt=\"Open In Colab\"/></a>"
      ]
    },
    {
      "cell_type": "code",
      "metadata": {
        "colab": {
          "base_uri": "https://localhost:8080/"
        },
        "id": "3MYvAySQ6CNy",
        "outputId": "539c0d73-74be-4914-921b-dc774bb73fac"
      },
      "source": [
        "school = 'cuny baruch college'\n",
        "print(school)"
      ],
      "execution_count": null,
      "outputs": [
        {
          "output_type": "stream",
          "text": [
            "cuny baruch college\n"
          ],
          "name": "stdout"
        }
      ]
    },
    {
      "cell_type": "code",
      "metadata": {
        "colab": {
          "base_uri": "https://localhost:8080/"
        },
        "id": "kosAQQcn6kWs",
        "outputId": "49e83da8-7f27-4de2-e4c2-3797dfa0d626"
      },
      "source": [
        "school = 'cuny baruch college'\n",
        "print(school.upper())"
      ],
      "execution_count": null,
      "outputs": [
        {
          "output_type": "stream",
          "text": [
            "CUNY BARUCH COLLEGE\n"
          ],
          "name": "stdout"
        }
      ]
    },
    {
      "cell_type": "code",
      "metadata": {
        "colab": {
          "base_uri": "https://localhost:8080/"
        },
        "id": "9WPvYOI-61Fc",
        "outputId": "91289598-1575-4c51-bf14-b933de1942be"
      },
      "source": [
        "school = 'cuny baruch college'\n",
        "print(school.lower())"
      ],
      "execution_count": null,
      "outputs": [
        {
          "output_type": "stream",
          "text": [
            "cuny baruch college\n"
          ],
          "name": "stdout"
        }
      ]
    },
    {
      "cell_type": "code",
      "metadata": {
        "colab": {
          "base_uri": "https://localhost:8080/"
        },
        "id": "hTNIJtbi67dH",
        "outputId": "5aa18fe5-085d-43ec-c5e8-4c7229d1aa62"
      },
      "source": [
        "school = 'cuny baruch college'\n",
        "print(school.title())"
      ],
      "execution_count": null,
      "outputs": [
        {
          "output_type": "stream",
          "text": [
            "Cuny Baruch College\n"
          ],
          "name": "stdout"
        }
      ]
    },
    {
      "cell_type": "code",
      "metadata": {
        "colab": {
          "base_uri": "https://localhost:8080/"
        },
        "id": "zFLYEzZJ9m-0",
        "outputId": "41a1166e-f1c1-44b0-8970-6030a666fb1e"
      },
      "source": [
        "school = 'cuny laguardia'\n",
        "print(school[0:1].upper() + school[1:4] + ' ' + school[5:6].upper() + school[6:])"
      ],
      "execution_count": null,
      "outputs": [
        {
          "output_type": "stream",
          "text": [
            "Cuny Laguardia\n"
          ],
          "name": "stdout"
        }
      ]
    },
    {
      "cell_type": "code",
      "metadata": {
        "colab": {
          "base_uri": "https://localhost:8080/"
        },
        "id": "pDjv5opZ-dcN",
        "outputId": "5c04513f-75dc-4f8e-e9ae-595e842b7c49"
      },
      "source": [
        "school = 'cuny baruch college'\n",
        "print(\"cuny \\tlaquardia\")\n"
      ],
      "execution_count": null,
      "outputs": [
        {
          "output_type": "stream",
          "text": [
            "cuny \tlaquardia\n"
          ],
          "name": "stdout"
        }
      ]
    },
    {
      "cell_type": "code",
      "metadata": {
        "colab": {
          "base_uri": "https://localhost:8080/"
        },
        "id": "R_NKM_6VAJnJ",
        "outputId": "f42aafc4-ec25-40d6-a68d-9e50f6586e00"
      },
      "source": [
        "school= 'Cuny Laguardia'\n",
        "print (school[0:4] +'\\t'+ school [5:])"
      ],
      "execution_count": null,
      "outputs": [
        {
          "output_type": "stream",
          "text": [
            "Cuny\tLaguardia\n"
          ],
          "name": "stdout"
        }
      ]
    },
    {
      "cell_type": "code",
      "metadata": {
        "colab": {
          "base_uri": "https://localhost:8080/"
        },
        "id": "vDLy2Yv2Aa6x",
        "outputId": "ff1efe4d-5624-45a5-e085-ca3f0ac6ce57"
      },
      "source": [
        "first_name = 'Thomas'\n",
        "last_name = '       Jackson'\n",
        "full_name = first_name + ' ' + last_name.strip()\n",
        "print(full_name)\n"
      ],
      "execution_count": null,
      "outputs": [
        {
          "output_type": "stream",
          "text": [
            "Thomas Jackson\n"
          ],
          "name": "stdout"
        }
      ]
    },
    {
      "cell_type": "code",
      "metadata": {
        "colab": {
          "base_uri": "https://localhost:8080/"
        },
        "id": "rPOaJaJKBKYM",
        "outputId": "c5361d0d-4084-4c31-b00b-556b99cf5e82"
      },
      "source": [
        "first_name = 'Thomas'\n",
        "middle_name = '    Rocky    '\n",
        "last_name = 'Jackson'\n",
        "full_name = first_name + ' ' + middle_name.strip() + ' ' + last_name\n",
        "print(full_name)"
      ],
      "execution_count": null,
      "outputs": [
        {
          "output_type": "stream",
          "text": [
            "Thomas Rocky Jackson\n"
          ],
          "name": "stdout"
        }
      ]
    },
    {
      "cell_type": "code",
      "metadata": {
        "colab": {
          "base_uri": "https://localhost:8080/"
        },
        "id": "oYY31tC1ByUq",
        "outputId": "53f4c7c8-f2e2-473c-faae-01cdfc62111b"
      },
      "source": [
        "x = 20 \n",
        "y = 25\n",
        "# The answer is 45 \n",
        "z = x + y \n",
        "print('The answer is ' +  str(z))"
      ],
      "execution_count": null,
      "outputs": [
        {
          "output_type": "stream",
          "text": [
            "The answer is 45\n"
          ],
          "name": "stdout"
        }
      ]
    },
    {
      "cell_type": "code",
      "metadata": {
        "colab": {
          "base_uri": "https://localhost:8080/"
        },
        "id": "ft6-x0LUC8to",
        "outputId": "6b197622-838e-43dd-e75a-df3bd01051ce"
      },
      "source": [
        "movies = ['star wars','star trek', 'lord of the rings', 'avengers']\n",
        "print(movies)"
      ],
      "execution_count": null,
      "outputs": [
        {
          "output_type": "stream",
          "text": [
            "['star wars', 'star trek', 'lord of the rings', 'avengers']\n"
          ],
          "name": "stdout"
        }
      ]
    },
    {
      "cell_type": "code",
      "metadata": {
        "colab": {
          "base_uri": "https://localhost:8080/"
        },
        "id": "miAIOM1bWC65",
        "outputId": "e4235ab0-17cc-4e04-f5f4-6078d6869c88"
      },
      "source": [
        "print(movies[1])"
      ],
      "execution_count": null,
      "outputs": [
        {
          "output_type": "stream",
          "text": [
            "star trek\n"
          ],
          "name": "stdout"
        }
      ]
    },
    {
      "cell_type": "code",
      "metadata": {
        "colab": {
          "base_uri": "https://localhost:8080/"
        },
        "id": "qvMxu4PlW3cf",
        "outputId": "cf211cd7-0213-46a2-f3a3-647b3bfaade3"
      },
      "source": [
        "print(movies[1].title())"
      ],
      "execution_count": null,
      "outputs": [
        {
          "output_type": "stream",
          "text": [
            "Star Trek\n"
          ],
          "name": "stdout"
        }
      ]
    },
    {
      "cell_type": "code",
      "metadata": {
        "colab": {
          "base_uri": "https://localhost:8080/"
        },
        "id": "fOpCxLt4XFW8",
        "outputId": "5638b537-c561-4e93-d58f-4eeabb9d6c1e"
      },
      "source": [
        "movies[1] = 'grown ups 2'\n",
        "movies = ['star wars','star trek', 'lord of the rings', 'avengers']\n",
        "print(movies)"
      ],
      "execution_count": null,
      "outputs": [
        {
          "output_type": "stream",
          "text": [
            "['star wars', 'grown ups 2', 'lord of the rings', 'avengers']\n"
          ],
          "name": "stdout"
        }
      ]
    },
    {
      "cell_type": "code",
      "metadata": {
        "colab": {
          "base_uri": "https://localhost:8080/"
        },
        "id": "J1kTAA5VZqV0",
        "outputId": "70a986a0-7591-4b5f-d5d5-3c1fd8b3eb0f"
      },
      "source": [
        "movies = ['star wars','star trek', 'lord of the rings', 'avengers']\n",
        "print(movies)\n",
        "movies.sort(reverse=True)\n",
        "print(movies)\n",
        "print(len(movies))"
      ],
      "execution_count": null,
      "outputs": [
        {
          "output_type": "stream",
          "text": [
            "['star wars', 'star trek', 'lord of the rings', 'avengers']\n",
            "['star wars', 'star trek', 'lord of the rings', 'avengers']\n",
            "4\n"
          ],
          "name": "stdout"
        }
      ]
    },
    {
      "cell_type": "code",
      "metadata": {
        "colab": {
          "base_uri": "https://localhost:8080/"
        },
        "id": "2aDSHUq5aDqo",
        "outputId": "a1db7df8-9090-4159-d8ca-4b27e83d3591"
      },
      "source": [
        "print(movies)\n",
        "print(sorted(movies))\n",
        "print(movies)"
      ],
      "execution_count": null,
      "outputs": [
        {
          "output_type": "stream",
          "text": [
            "['star wars', 'lord of the rings', 'grown ups 2', 'avengers']\n",
            "['avengers', 'grown ups 2', 'lord of the rings', 'star wars']\n",
            "['star wars', 'lord of the rings', 'grown ups 2', 'avengers']\n"
          ],
          "name": "stdout"
        }
      ]
    },
    {
      "cell_type": "code",
      "metadata": {
        "colab": {
          "base_uri": "https://localhost:8080/"
        },
        "id": "FsgF8A-AafD3",
        "outputId": "6917476d-c663-411a-fc8a-2d95a620405e"
      },
      "source": [
        "import sys\n",
        "print('Python Version')\n",
        "print(sys.version)\n",
        "print('Version info')\n",
        "print(sys.version_info)\n",
        "\n",
        "numbers = [    \n",
        "    386, 462, 47, 418, 907, 344, 236, 375, 823, 566, 597, 978, 328, 615, 953, 345, \n",
        "    399, 162, 758, 219, 918, 237, 412, 566, 826, 248, 866, 950, 626, 949, 687, 217, \n",
        "    815, 67, 104, 58, 512, 24, 892, 894, 767, 553, 81, 379, 843, 831, 445, 742, 717, \n",
        "    958,743, 527\n",
        "    ]\n",
        "\n",
        "# list = [if(n%2 == 0)  if n < 237 for n in numbers]\n",
        "# print(list)\n",
        "list = []\n",
        "for n in numbers:\n",
        "  if n%2 == 0:\n",
        "    if n < 237:\n",
        "       list.append(n)\n",
        "list.sort()\n",
        "print(list)"
      ],
      "execution_count": null,
      "outputs": [
        {
          "output_type": "stream",
          "text": [
            "Python Version\n",
            "3.6.9 (default, Oct  8 2020, 12:12:24) \n",
            "[GCC 8.4.0]\n",
            "Version info\n",
            "sys.version_info(major=3, minor=6, micro=9, releaselevel='final', serial=0)\n",
            "[24, 58, 104, 162, 236]\n"
          ],
          "name": "stdout"
        }
      ]
    },
    {
      "cell_type": "code",
      "metadata": {
        "colab": {
          "base_uri": "https://localhost:8080/"
        },
        "id": "GA5u7R58aDud",
        "outputId": "c0bd35a1-26c7-408f-f61d-48316f36fe4b"
      },
      "source": [
        "numbers = [    \n",
        "    386, 462, 47, 418, 907, 344, 236, 375, 823, 566, 597, 978, 328, 615, 953, 345, \n",
        "    399, 162, 758, 219, 918, 237, 412, 566, 826, 248, 866, 950, 626, 949, 687, 217, \n",
        "    815, 67, 104, 58, 512, 24, 892, 894, 767, 553, 81, 379, 843, 831, 445, 742, 717, \n",
        "    958,743, 527\n",
        "    ]\n",
        "\n",
        "# list = [if(n%2 == 0)  if n < 237 for n in numbers]\n",
        "# print(list)\n",
        "list = []\n",
        "for n in numbers:\n",
        "  if n%2 == 0:\n",
        "    if n < 237:\n",
        "       list.append(n)\n",
        "list.sort()\n",
        "print(list)"
      ],
      "execution_count": null,
      "outputs": [
        {
          "output_type": "stream",
          "text": [
            "[24, 58, 104, 162, 236]\n"
          ],
          "name": "stdout"
        }
      ]
    },
    {
      "cell_type": "code",
      "metadata": {
        "colab": {
          "base_uri": "https://localhost:8080/"
        },
        "id": "-K31Z47-aDyd",
        "outputId": "283a59da-09cb-4216-9129-5dd976cec35c"
      },
      "source": [
        "import datetime\n",
        "now=datetime.datetime.now()\n",
        "print('Current date and time : ')\n",
        "print(now.strftime('%m/%d/%Y %H:%M:%S'))"
      ],
      "execution_count": null,
      "outputs": [
        {
          "output_type": "stream",
          "text": [
            "Current date and time : \n",
            "01/06/2021 01:59:23\n"
          ],
          "name": "stdout"
        }
      ]
    },
    {
      "cell_type": "code",
      "metadata": {
        "colab": {
          "base_uri": "https://localhost:8080/"
        },
        "id": "_dMPJ6e8joQH",
        "outputId": "3a981387-23c5-4fb6-edf0-52a0e2905909"
      },
      "source": [
        "first_name = ''\n",
        "last_name = ''\n",
        "email_extension = ''\n",
        "\n",
        "name='RoBerT'\n",
        "print(name.lower())\n",
        "print(name.upper())"
      ],
      "execution_count": null,
      "outputs": [
        {
          "output_type": "stream",
          "text": [
            "robert\n",
            "ROBERT\n"
          ],
          "name": "stdout"
        }
      ]
    },
    {
      "cell_type": "code",
      "metadata": {
        "colab": {
          "base_uri": "https://localhost:8080/"
        },
        "id": "y1j8cv0LqAmT",
        "outputId": "2a752ba6-c535-4877-8da9-b6a18aeb856e"
      },
      "source": [
        "tvshows = ['money heist','attack on titan', 'indian matchmaking', 'naruto', 'all american']\n",
        "print(tvshows)"
      ],
      "execution_count": null,
      "outputs": [
        {
          "output_type": "stream",
          "text": [
            "['money heist', 'attack on titan', 'indian matchmaking', 'naruto', 'all american']\n"
          ],
          "name": "stdout"
        }
      ]
    },
    {
      "cell_type": "code",
      "metadata": {
        "colab": {
          "base_uri": "https://localhost:8080/"
        },
        "id": "CD9aQzFPriZU",
        "outputId": "5601daa9-77d0-47f5-d02e-40042d31eaf8"
      },
      "source": [
        "print(sorted(tvshows))"
      ],
      "execution_count": null,
      "outputs": [
        {
          "output_type": "stream",
          "text": [
            "['all american', 'attack on titan', 'indian matchmaking', 'money heist', 'naruto']\n"
          ],
          "name": "stdout"
        }
      ]
    },
    {
      "cell_type": "code",
      "metadata": {
        "colab": {
          "base_uri": "https://localhost:8080/"
        },
        "id": "qI07JW3TrQwT",
        "outputId": "d9e59f28-6e14-49dc-a4fc-f0b18126487c"
      },
      "source": [
        "patient = {'first_name': 'John', 'last_name': 'Kimble',}\r\n",
        "#print(patient)\r\n",
        "print(patient['first_name'] + ' ' + patient['last_name'])"
      ],
      "execution_count": null,
      "outputs": [
        {
          "output_type": "stream",
          "text": [
            "John Kimble\n"
          ],
          "name": "stdout"
        }
      ]
    },
    {
      "cell_type": "code",
      "metadata": {
        "colab": {
          "base_uri": "https://localhost:8080/"
        },
        "id": "xyaXLzcbsH99",
        "outputId": "142aa70a-fa75-43b2-a728-7b4a32746cdb"
      },
      "source": [
        "print('Hello there, ' + patient['first_name'] + ' ' + patient['last_name'])"
      ],
      "execution_count": null,
      "outputs": [
        {
          "output_type": "stream",
          "text": [
            "Hello there, John Kimble\n"
          ],
          "name": "stdout"
        }
      ]
    },
    {
      "cell_type": "code",
      "metadata": {
        "colab": {
          "base_uri": "https://localhost:8080/"
        },
        "id": "9oWDdthtsc82",
        "outputId": "f4de3abe-fd71-4a3b-9a94-493bb9e6ae51"
      },
      "source": [
        "patient['MRN'] = '00000000'\r\n",
        "patient['Last_Exam'] = 'echo'\r\n",
        "print(patient)"
      ],
      "execution_count": null,
      "outputs": [
        {
          "output_type": "stream",
          "text": [
            "{'first_name': 'John', 'last_name': 'Kimble', 'MRN': '00000000', 'Last_Exam': 'echo'}\n"
          ],
          "name": "stdout"
        }
      ]
    },
    {
      "cell_type": "code",
      "metadata": {
        "colab": {
          "base_uri": "https://localhost:8080/"
        },
        "id": "Z9ueLIOUsvir",
        "outputId": "baea98dc-375a-406e-dd4d-38cb8560e002"
      },
      "source": [
        "for the_key, the_value in patient.items():\r\n",
        "  print(the_key + ' = ' + the_value)"
      ],
      "execution_count": null,
      "outputs": [
        {
          "output_type": "stream",
          "text": [
            "first_name = John\n",
            "last_name = Kimble\n",
            "MRN = 00000000\n",
            "Last_Exam = echo\n"
          ],
          "name": "stdout"
        }
      ]
    },
    {
      "cell_type": "code",
      "metadata": {
        "colab": {
          "base_uri": "https://localhost:8080/"
        },
        "id": "nPtM2pbltdG8",
        "outputId": "256a89f1-2076-4a5c-9007-dd1aa45c4197"
      },
      "source": [
        "patient_2 = {}\r\n",
        "patient_2['first_name'] = 'Jean'\r\n",
        "patient_2['last_name'] = 'Picard'\r\n",
        "print(patient_2['first_name'] + ' ' + patient_2['last_name'])\r\n"
      ],
      "execution_count": null,
      "outputs": [
        {
          "output_type": "stream",
          "text": [
            "Jean Picard\n"
          ],
          "name": "stdout"
        }
      ]
    },
    {
      "cell_type": "code",
      "metadata": {
        "colab": {
          "base_uri": "https://localhost:8080/"
        },
        "id": "N7ERjXWPue1e",
        "outputId": "94159cbd-63ba-4302-f10b-dbfc0b749000"
      },
      "source": [
        "patient_2['first_name'] = 'Jean-Luc'\r\n",
        "print(patient_2['first_name'] + ' ' + patient_2['last_name'])\r\n"
      ],
      "execution_count": null,
      "outputs": [
        {
          "output_type": "stream",
          "text": [
            "Jean-Luc Picard\n"
          ],
          "name": "stdout"
        }
      ]
    },
    {
      "cell_type": "code",
      "metadata": {
        "colab": {
          "base_uri": "https://localhost:8080/"
        },
        "id": "f7kjcu01unlz",
        "outputId": "38b6d697-8df9-4be1-d974-45449d5226ed"
      },
      "source": [
        "del patient_2['first_name']\r\n",
        "print(patient_2)"
      ],
      "execution_count": null,
      "outputs": [
        {
          "output_type": "stream",
          "text": [
            "{'last_name': 'Picard'}\n"
          ],
          "name": "stdout"
        }
      ]
    },
    {
      "cell_type": "code",
      "metadata": {
        "colab": {
          "base_uri": "https://localhost:8080/"
        },
        "id": "ISh1NfpnvCF5",
        "outputId": "f12bc949-b5ee-4dec-c5ac-561637454231"
      },
      "source": [
        "patient_3 = {\r\n",
        "            'first_name': 'Jack',\r\n",
        "             'last_name': 'Sparrow',\r\n",
        "             'mrn':       '012345',\r\n",
        "             'dob':       '07/01/2002'\r\n",
        "             }\r\n",
        "print(patient_3)"
      ],
      "execution_count": null,
      "outputs": [
        {
          "output_type": "stream",
          "text": [
            "{'first_name': 'Jack', 'last_name': 'Sparrow', 'mrn': '012345', 'dob': '07/01/2002'}\n"
          ],
          "name": "stdout"
        }
      ]
    },
    {
      "cell_type": "code",
      "metadata": {
        "colab": {
          "base_uri": "https://localhost:8080/"
        },
        "id": "tT4NrSlTwREE",
        "outputId": "7b20b952-db03-4e84-e271-ea840bfa056b"
      },
      "source": [
        "people = [{'first_name': 'Jack', 'last_name': 'Sparrow', 'mrn': '012345', 'dob': '07/01/2002'},\r\n",
        "          {'first_name': 'Tom', 'last_name': 'Smith', 'mrn': '111111', 'dob': '12/15/1985'},\r\n",
        "          {'first_name': 'Michael', 'last_name': 'Roberts', 'mrn': '888888', 'dob': '11/09/1990'}\r\n",
        "          ]   \r\n",
        "print(people)"
      ],
      "execution_count": null,
      "outputs": [
        {
          "output_type": "stream",
          "text": [
            "[{'first_name': 'Jack', 'last_name': 'Sparrow', 'mrn': '012345', 'dob': '07/01/2002'}, {'first_name': 'Tom', 'last_name': 'Smith', 'mrn': '111111', 'dob': '12/15/1985'}, {'first_name': 'Michael', 'last_name': 'Roberts', 'mrn': '888888', 'dob': '11/09/1990'}]\n"
          ],
          "name": "stdout"
        }
      ]
    },
    {
      "cell_type": "code",
      "metadata": {
        "colab": {
          "base_uri": "https://localhost:8080/"
        },
        "id": "i3QW3c1AyJz9",
        "outputId": "bb22b1e2-81aa-464f-bb8e-306cf95400a4"
      },
      "source": [
        "for person in people:\r\n",
        "  name = person['first_name'].title() + ' ' + person['last_name'].title()\r\n",
        "  mrn = person['mrn']\r\n",
        "  dob = person['dob']\r\n",
        "  print(name + '\\t MRN is ' + mrn + '\\t DOB is ' + dob)"
      ],
      "execution_count": null,
      "outputs": [
        {
          "output_type": "stream",
          "text": [
            "Jack Sparrow\t MRN is 012345\t DOB is 07/01/2002\n",
            "Tom Jackson\t MRN is 012345\t DOB is 07/01/2002\n",
            "Robert Adams\t MRN is 012345\t DOB is 07/01/2002\n"
          ],
          "name": "stdout"
        }
      ]
    },
    {
      "cell_type": "code",
      "metadata": {
        "colab": {
          "base_uri": "https://localhost:8080/"
        },
        "id": "axqaGMr7zPsd",
        "outputId": "585d128c-cd76-48f7-954d-373a48bdc6c2"
      },
      "source": [
        "people = []\r\n",
        "person = {\r\n",
        "            'first_name': 'Jack',\r\n",
        "             'last_name': 'Sparrow',\r\n",
        "             'mrn':       '012345',\r\n",
        "             'dob':       '07/01/2002'\r\n",
        "             }\r\n",
        "people.append(person)\r\n",
        "\r\n",
        "person = {\r\n",
        "            'first_name': 'Tom',\r\n",
        "             'last_name': 'Jackson',\r\n",
        "             'mrn':       '012345',\r\n",
        "             'dob':       '07/01/2002'\r\n",
        "             }\r\n",
        "people.append(person)\r\n",
        "\r\n",
        "person = {\r\n",
        "            'first_name': 'Robert',\r\n",
        "             'last_name': 'Adams',\r\n",
        "             'mrn':       '012345',\r\n",
        "             'dob':       '07/01/2002'\r\n",
        "             }\r\n",
        "people.append(person)\r\n",
        "\r\n",
        "for person in people:\r\n",
        "  name = person['first_name'].title() + ' ' + person['last_name'].title()\r\n",
        "  mrn = person['mrn']\r\n",
        "  dob = person['dob']\r\n",
        "  print(name + '\\t MRN is ' + mrn + '\\t DOB is ' + dob)"
      ],
      "execution_count": null,
      "outputs": [
        {
          "output_type": "stream",
          "text": [
            "Jack Sparrow\t MRN is 012345\t DOB is 07/01/2002\n",
            "Tom Jackson\t MRN is 012345\t DOB is 07/01/2002\n",
            "Robert Adams\t MRN is 012345\t DOB is 07/01/2002\n"
          ],
          "name": "stdout"
        }
      ]
    },
    {
      "cell_type": "code",
      "metadata": {
        "colab": {
          "base_uri": "https://localhost:8080/"
        },
        "id": "9e7KuyPp2K5A",
        "outputId": "046bbca0-4360-4a02-a2fb-b8cd84e825da"
      },
      "source": [
        "for the_key in patient_3.keys():\r\n",
        "  print(the_key + ' = ' + the_value)"
      ],
      "execution_count": null,
      "outputs": [
        {
          "output_type": "stream",
          "text": [
            "first_name = echo\n",
            "last_name = echo\n",
            "mrn = echo\n",
            "dob = echo\n"
          ],
          "name": "stdout"
        }
      ]
    },
    {
      "cell_type": "code",
      "metadata": {
        "colab": {
          "base_uri": "https://localhost:8080/"
        },
        "id": "CqoLN1kC2eFo",
        "outputId": "ab1cede7-eee9-4cc8-a3ae-a5c024d4906a"
      },
      "source": [
        "for k in patient_3.keys():\r\n",
        "  print(k)"
      ],
      "execution_count": null,
      "outputs": [
        {
          "output_type": "stream",
          "text": [
            "first_name\n",
            "last_name\n",
            "mrn\n",
            "dob\n"
          ],
          "name": "stdout"
        }
      ]
    },
    {
      "cell_type": "code",
      "metadata": {
        "colab": {
          "base_uri": "https://localhost:8080/"
        },
        "id": "glTUhlZu2eIF",
        "outputId": "4103cbd6-97f2-4410-fa4f-e669ee51a3f6"
      },
      "source": [
        "for v in patient_3.values():\r\n",
        "  print(v)"
      ],
      "execution_count": null,
      "outputs": [
        {
          "output_type": "stream",
          "text": [
            "Jack\n",
            "Sparrow\n",
            "012345\n",
            "07/01/2002\n"
          ],
          "name": "stdout"
        }
      ]
    },
    {
      "cell_type": "code",
      "metadata": {
        "colab": {
          "base_uri": "https://localhost:8080/"
        },
        "id": "dbTrLnH22eKg",
        "outputId": "68d84eea-2d60-4f86-9fa7-c810355ab8fa"
      },
      "source": [
        "friends_ages = {\r\n",
        "                'Nick': '30',\r\n",
        "                'Amanda': '34',\r\n",
        "                'John': '36',\r\n",
        "                'Haley': '26'\r\n",
        "                }\r\n",
        "\r\n",
        "favorite_friends = ['Nick', 'Amanda']\r\n",
        "for name, ages in friends_ages.items():\r\n",
        "  print(name.title() + ' age is ' + str(ages))\r\n",
        "\r\n",
        "  if name in favorite_friends: \r\n",
        "    print('Hi, ' + name.title() + ', I see you are age ' + str(ages))\r\n",
        " "
      ],
      "execution_count": null,
      "outputs": [
        {
          "output_type": "stream",
          "text": [
            "Nick age is 30\n",
            "Hi, Nick, I see you are age 30\n",
            "Amanda age is 34\n",
            "Hi, Amanda, I see you are age 34\n",
            "John age is 36\n",
            "Haley age is 26\n"
          ],
          "name": "stdout"
        }
      ]
    },
    {
      "cell_type": "code",
      "metadata": {
        "id": "SgdcQd6x_Iib"
      },
      "source": [
        "number "
      ],
      "execution_count": null,
      "outputs": []
    },
    {
      "cell_type": "code",
      "metadata": {
        "colab": {
          "base_uri": "https://localhost:8080/"
        },
        "id": "D0dzXBUpgpDd",
        "outputId": "409b496f-8932-4ab6-f97a-a3fcd1b9c249"
      },
      "source": [
        "name='RoBerT'\r\n",
        "print(name.lower())\r\n",
        "print(name.upper())"
      ],
      "execution_count": null,
      "outputs": [
        {
          "output_type": "stream",
          "text": [
            "robert\n",
            "ROBERT\n"
          ],
          "name": "stdout"
        }
      ]
    },
    {
      "cell_type": "code",
      "metadata": {
        "colab": {
          "base_uri": "https://localhost:8080/"
        },
        "id": "gAARGoyJgpzu",
        "outputId": "c332c36e-cbac-410f-ce85-96171b05e0dc"
      },
      "source": [
        "tvshows = ['money heist','attack on titan', 'indian matchmaking',    'naruto', 'all american']\r\n",
        "print(tvshows)\r\n",
        "print(sorted(tvshows))\r\n",
        "print(sorted(tvshows, reverse = True))\r\n",
        "print(len(tvshows))"
      ],
      "execution_count": null,
      "outputs": [
        {
          "output_type": "stream",
          "text": [
            "['money heist', 'attack on titan', 'indian matchmaking', 'naruto', 'all american']\n",
            "['all american', 'attack on titan', 'indian matchmaking', 'money heist', 'naruto']\n",
            "['naruto', 'money heist', 'indian matchmaking', 'attack on titan', 'all american']\n",
            "5\n"
          ],
          "name": "stdout"
        }
      ]
    },
    {
      "cell_type": "code",
      "metadata": {
        "colab": {
          "base_uri": "https://localhost:8080/"
        },
        "id": "6nnFx4jggp1y",
        "outputId": "0c264482-9314-4a8b-b231-db2ca3aab606"
      },
      "source": [
        "first_name='Sahil'\r\n",
        "last_name='Rajapkar'\r\n",
        "email_extension='@gmail.com'\r\n",
        "print(first_name+last_name+email_extension)"
      ],
      "execution_count": null,
      "outputs": [
        {
          "output_type": "stream",
          "text": [
            "SahilRajapkar@gmail.com\n"
          ],
          "name": "stdout"
        }
      ]
    },
    {
      "cell_type": "code",
      "metadata": {
        "colab": {
          "base_uri": "https://localhost:8080/"
        },
        "id": "Cxmu6p8Zgp3y",
        "outputId": "2e3224e0-c6e1-48a0-edf0-90376d1330f6"
      },
      "source": [
        "val = input(\"Do you want to hang out on the 15th of this month?\") \r\n",
        "print(val) "
      ],
      "execution_count": null,
      "outputs": [
        {
          "output_type": "stream",
          "text": [
            "Do you want to hang out on the 15th of this month?Yes\n",
            "Yes\n"
          ],
          "name": "stdout"
        }
      ]
    }
  ]
}